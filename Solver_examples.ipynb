{
 "cells": [
  {
   "cell_type": "markdown",
   "metadata": {},
   "source": [
    "# Introduction\n",
    "In this tutorial, we will learn how to use the PuLP library in Python to solve linear programming problems. Linear programming is a method to achieve the best outcome in a mathematical model whose requirements are represented by linear constraints."
   ]
  },
  {
   "cell_type": "code",
   "execution_count": 1,
   "metadata": {},
   "outputs": [
    {
     "name": "stdout",
     "output_type": "stream",
     "text": [
      "Requirement already satisfied: pulp in d:\\miniforge3\\envs\\base2\\lib\\site-packages (2.6.0)\n"
     ]
    }
   ],
   "source": [
    "#Install pulp\n",
    "!pip install pulp"
   ]
  },
  {
   "cell_type": "markdown",
   "metadata": {},
   "source": [
    "## Problem Formulation\n",
    "Let's consider a simple problem: \n",
    "\n",
    "Maximize: $$Z = 4x + 3y$$ \n",
    "Subject to: \n",
    "$$2x + y \\leq 20$$ \n",
    "$$x + y \\leq 12$$ \n",
    "$$x, y \\geq 0$$"
   ]
  },
  {
   "cell_type": "code",
   "execution_count": 2,
   "metadata": {},
   "outputs": [
    {
     "name": "stderr",
     "output_type": "stream",
     "text": [
      "d:\\miniforge3\\envs\\base2\\lib\\site-packages\\pulp\\pulp.py:1352: UserWarning: Spaces are not permitted in the name. Converted to '_'\n",
      "  warnings.warn(\"Spaces are not permitted in the name. Converted to '_'\")\n"
     ]
    }
   ],
   "source": [
    "# Import the library\n",
    "from pulp import *\n",
    "\n",
    "# Create a problem variable:\n",
    "prob = LpProblem(\"Maximize the profit Z\", LpMaximize)\n",
    "\n",
    "# Create problem variables:\n",
    "x = LpVariable(\"x\", lowBound=0, upBound=None) # x>=0\n",
    "y = LpVariable(\"y\", lowBound=0, upBound=None) # y>=0\n"
   ]
  },
  {
   "cell_type": "markdown",
   "metadata": {},
   "source": [
    "In linear programming problems, the objective function represents the quantity which needs to be minimized or maximized. It does not have constraints like `<=` or `>=`. On the other hand, constraints are the restrictions or limitations on the variables. They have a certain form based on the problem requirements, often represented with `<=`, `>=`, or `==`."
   ]
  },
  {
   "cell_type": "code",
   "execution_count": 3,
   "metadata": {},
   "outputs": [],
   "source": [
    "\n",
    "# The objective function and constraints are added using the += operator to our model.\n",
    "# Objective function Z\n",
    "prob += 4*x + 3*y, \"Profit\" \n",
    "\n",
    "# Constraints\n",
    "prob += 2*x + y <= 20\n",
    "prob += x + y <= 12"
   ]
  },
  {
   "cell_type": "markdown",
   "metadata": {},
   "source": [
    "<b>Note: The names of variables or constraints must be unique and special characters must not appear, e.g. `=`,`<`,`>`. "
   ]
  },
  {
   "cell_type": "code",
   "execution_count": 4,
   "metadata": {},
   "outputs": [
    {
     "data": {
      "text/plain": [
       "Maximize_the_profit_Z:\n",
       "MAXIMIZE\n",
       "4*x + 3*y + 0\n",
       "SUBJECT TO\n",
       "_C1: 2 x + y <= 20\n",
       "\n",
       "_C2: x + y <= 12\n",
       "\n",
       "VARIABLES\n",
       "x Continuous\n",
       "y Continuous"
      ]
     },
     "execution_count": 4,
     "metadata": {},
     "output_type": "execute_result"
    }
   ],
   "source": [
    "# Problem\n",
    "prob"
   ]
  },
  {
   "cell_type": "code",
   "execution_count": 5,
   "metadata": {},
   "outputs": [
    {
     "name": "stdout",
     "output_type": "stream",
     "text": [
      "Status: Optimal\n",
      "x = 8.0\n",
      "y = 4.0\n",
      "Total profit is:  44.0\n"
     ]
    }
   ],
   "source": [
    "# Solve the problem\n",
    "prob.solve()\n",
    "print(\"Status:\", LpStatus[prob.status])\n",
    "\n",
    "# Print the optimal production amount of x and y\n",
    "for v in prob.variables():\n",
    "    print(v.name, \"=\", v.varValue)\n",
    "\n",
    "# Print the optimal profit\n",
    "print(\"Total profit is: \", value(prob.objective))"
   ]
  },
  {
   "cell_type": "markdown",
   "metadata": {},
   "source": [
    "# Second Example: Solving a Knapsack Problem\n",
    "In this example, we will solve a knapsack problem. We have a set of items, each with a weight and a value, and we want to determine the number of each item to include in a collection so that the total weight is less than or equal to a given limit and the total value is as large as possible.\n",
    "\n",
    "Maximize: \n",
    "$$Z = 50x_1 + 100x_2 + 120x_3$$ \n",
    "Subject to: \n",
    "$$10x_1 + 20x_2 + 30x_3 \\leq 50$$ \n",
    "$$x_1, x_2, x_3  \\in \\{0,1\\}$$"
   ]
  },
  {
   "cell_type": "code",
   "execution_count": 6,
   "metadata": {},
   "outputs": [],
   "source": [
    "# Create the 'prob' variable to contain the problem data\n",
    "prob = LpProblem(name=\"Knapsack Problem\", sense=LpMaximize)\n",
    "\n",
    "# The 3 binary variables that can only take values of 0 or 1\n",
    "x1 = LpVariable(name=\"Item1\", cat='Binary')\n",
    "x2 = LpVariable(name=\"Item2\", cat='Binary')\n",
    "x3 = LpVariable(name=\"Item3\", cat='Binary')\n",
    "\n",
    "# The objective function is added to 'prob'\n",
    "prob += lpSum([50*x1, 100*x2, 120*x3]), \"Total Value of Items in Knapsack\"\n",
    "\n",
    "# Constraint\n",
    "prob += lpSum([10*x1, 20*x2, 30*x3]) <= 50, \"Total Weight of Items in Knapsack\""
   ]
  },
  {
   "cell_type": "code",
   "execution_count": 7,
   "metadata": {},
   "outputs": [
    {
     "name": "stdout",
     "output_type": "stream",
     "text": [
      "Status: Optimal\n",
      "Item1 = 0\n",
      "Item2 = 1\n",
      "Item3 = 1\n",
      "Total value of items in knapsack is:  220\n"
     ]
    }
   ],
   "source": [
    "# Solve the problem\n",
    "prob.solve()\n",
    "print(\"Status:\", LpStatus[prob.status])\n",
    "\n",
    "# Print the optimal solution\n",
    "for v in prob.variables():\n",
    "    print(v.name, \"=\", v.varValue)\n",
    "\n",
    "# Print the optimal total value\n",
    "print(\"Total value of items in knapsack is: \", value(prob.objective))"
   ]
  },
  {
   "cell_type": "markdown",
   "metadata": {},
   "source": [
    "# Third Example: Using Binary Variables as Switches\n",
    "In this example, we will use a binary variable as a switch to control whether certain constraints are active or not. This is a common technique in linear programming when we want to model conditional constraints.\n",
    "\n",
    "Maximize: $$Z = b_1 + b_2 + b_3$$ \n",
    "Subject to: \n",
    "$$x + y + M(1-b_1) \\geq 50$$ \n",
    "$$x + 2y + M b_1 \\leq 100$$ \n",
    "$$3x + 2y + M(1-b_2) \\geq 50$$ \n",
    "$$-x + 5y + M b_3 > 75$$ \n",
    "$$x \\geq 0, x \\leq 8$$\n",
    "$$y \\geq 0$$\n",
    "$$b_1, b_2, b_3 \\in \\{0,1\\}$$"
   ]
  },
  {
   "cell_type": "code",
   "execution_count": 8,
   "metadata": {},
   "outputs": [],
   "source": [
    "prob = LpProblem(name=\"Switch Problem\", sense=LpMaximize)\n",
    "\n",
    "# The variables are created\n",
    "x = LpVariable(name=\"x\", lowBound=0,upBound=8)\n",
    "y = LpVariable(name=\"y\", lowBound=0)\n",
    "b1 = LpVariable(name=\"b1\", cat='Binary')\n",
    "b2 = LpVariable(name=\"b2\", cat='Binary')\n",
    "b3 = LpVariable(name=\"b3\", cat='Binary')\n",
    "\n",
    "# The objective function is added to 'prob' first\n",
    "prob += lpSum([b1,b2,b3]), \"Total Value\"\n",
    "\n",
    "\n",
    "M = 1000  # A very large number\n",
    "eps = 0.00001# A very small number\n",
    "prob += lpSum([x, y]) + M*(1-b1)>= 50 , \"Weight constraint when b1 is 1\"\n",
    "prob += lpSum([x, 2*y]) + M*b1 <= 100 , \"Weight constraint when b1 is 0\"\n",
    "prob += lpSum([3*x, 2*y]) + M*(1-b2)>= 50 , \"Weight constraint when b2 is 1\"\n",
    "# It is not possible to model sharp inequalities `>` or `<` in solver, \n",
    "# in order to model them a small epsilon value is added artificially to the non-sharp equations.\n",
    "prob += lpSum([-x, 5*y]) + M*b3 >= 75+eps , \"Weight constraint when b3 is 0\"\n"
   ]
  },
  {
   "cell_type": "code",
   "execution_count": 9,
   "metadata": {},
   "outputs": [
    {
     "name": "stdout",
     "output_type": "stream",
     "text": [
      "Status: Optimal\n",
      "b1 = 0\n",
      "b2 = 1\n",
      "b3 = 1\n",
      "x = 8.0\n",
      "y = 13.0\n",
      "Total value is:  2\n"
     ]
    }
   ],
   "source": [
    "# Solve the problem\n",
    "prob.solve()\n",
    "print(\"Status:\", LpStatus[prob.status])\n",
    "\n",
    "# Print the optimal solution\n",
    "for v in prob.variables():\n",
    "    print(v.name, \"=\", v.varValue)\n",
    "\n",
    "# Print the optimal total value\n",
    "print(\"Total value is: \", value(prob.objective))"
   ]
  },
  {
   "cell_type": "code",
   "execution_count": null,
   "metadata": {},
   "outputs": [],
   "source": []
  }
 ],
 "metadata": {
  "kernelspec": {
   "display_name": "base2",
   "language": "python",
   "name": "python3"
  },
  "language_info": {
   "codemirror_mode": {
    "name": "ipython",
    "version": 3
   },
   "file_extension": ".py",
   "mimetype": "text/x-python",
   "name": "python",
   "nbconvert_exporter": "python",
   "pygments_lexer": "ipython3",
   "version": "3.9.7"
  }
 },
 "nbformat": 4,
 "nbformat_minor": 2
}
